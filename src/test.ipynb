{
 "cells": [
  {
   "cell_type": "code",
   "execution_count": 3,
   "metadata": {},
   "outputs": [],
   "source": [
    "import torch\n",
    "from src.prompts import *\n",
    "from openai import OpenAI\n",
    "import os\n",
    "import numpy as np\n",
    "from src.api_key import glm_key"
   ]
  },
  {
   "cell_type": "code",
   "execution_count": 1,
   "metadata": {},
   "outputs": [
    {
     "name": "stdout",
     "output_type": "stream",
     "text": [
      "INFO 09-16 11:00:20 config.py:1653] Downcasting torch.float32 to torch.float16.\n",
      "INFO 09-16 11:00:20 llm_engine.py:223] Initializing an LLM engine (v0.6.1.post2) with config: model='/mnt/d/LLM/MiniCPM-2B-dpo-fp16/', speculative_config=None, tokenizer='/mnt/d/LLM/MiniCPM-2B-dpo-fp16/', skip_tokenizer_init=False, tokenizer_mode=auto, revision=None, override_neuron_config=None, rope_scaling=None, rope_theta=None, tokenizer_revision=None, trust_remote_code=True, dtype=torch.float16, max_seq_len=2048, download_dir=None, load_format=LoadFormat.AUTO, tensor_parallel_size=1, pipeline_parallel_size=1, disable_custom_all_reduce=False, quantization=None, enforce_eager=False, kv_cache_dtype=auto, quantization_param_path=None, device_config=cuda, decoding_config=DecodingConfig(guided_decoding_backend='outlines'), observability_config=ObservabilityConfig(otlp_traces_endpoint=None, collect_model_forward_time=False, collect_model_execute_time=False), seed=0, served_model_name=/mnt/d/LLM/MiniCPM-2B-dpo-fp16/, use_v2_block_manager=False, num_scheduler_steps=1, enable_prefix_caching=False, use_async_output_proc=True)\n",
      "WARNING 09-16 11:00:20 utils.py:727] Using 'pin_memory=False' as WSL is detected. This may slow down the performance.\n",
      "INFO 09-16 11:00:21 model_runner.py:997] Starting to load model /mnt/d/LLM/MiniCPM-2B-dpo-fp16/...\n"
     ]
    },
    {
     "data": {
      "application/vnd.jupyter.widget-view+json": {
       "model_id": "98620ece70db437abc21006047ad461f",
       "version_major": 2,
       "version_minor": 0
      },
      "text/plain": [
       "Loading pt checkpoint shards:   0% Completed | 0/1 [00:00<?, ?it/s]\n"
      ]
     },
     "metadata": {},
     "output_type": "display_data"
    },
    {
     "name": "stderr",
     "output_type": "stream",
     "text": [
      "/home/hhy/miniconda3/lib/python3.10/site-packages/vllm/model_executor/model_loader/weight_utils.py:424: FutureWarning: You are using `torch.load` with `weights_only=False` (the current default value), which uses the default pickle module implicitly. It is possible to construct malicious pickle data which will execute arbitrary code during unpickling (See https://github.com/pytorch/pytorch/blob/main/SECURITY.md#untrusted-models for more details). In a future release, the default value for `weights_only` will be flipped to `True`. This limits the functions that could be executed during unpickling. Arbitrary objects will no longer be allowed to be loaded via this mode unless they are explicitly allowlisted by the user via `torch.serialization.add_safe_globals`. We recommend you start setting `weights_only=True` for any use case where you don't have full control of the loaded file. Please open an issue on GitHub for any issues related to this experimental feature.\n",
      "  state = torch.load(bin_file, map_location=\"cpu\")\n"
     ]
    },
    {
     "name": "stdout",
     "output_type": "stream",
     "text": [
      "INFO 09-16 11:00:46 model_runner.py:1008] Loading model weights took 5.1039 GB\n",
      "INFO 09-16 11:00:48 gpu_executor.py:122] # GPU blocks: 150, # CPU blocks: 728\n",
      "INFO 09-16 11:00:48 model_runner.py:1311] Capturing the model for CUDA graphs. This may lead to unexpected consequences if the model is not static. To run the model in eager mode, set 'enforce_eager=True' or use '--enforce-eager' in the CLI.\n",
      "INFO 09-16 11:00:48 model_runner.py:1315] CUDA graphs can take additional 1~3 GiB memory per GPU. If you are running out of memory, consider decreasing `gpu_memory_utilization` or enforcing eager mode. You can also reduce the `max_num_seqs` as needed to decrease memory usage.\n",
      "INFO 09-16 11:01:07 model_runner.py:1430] Graph capturing finished in 20 secs.\n"
     ]
    }
   ],
   "source": [
    "from transformers import AutoTokenizer\n",
    "from vllm import LLM, SamplingParams\n",
    "\n",
    "model_name = \"/mnt/d/LLM/MiniCPM-2B-dpo-fp16/\"\n",
    "prompt = [{\"role\": \"user\", \"content\": \"推荐5个北京的景点。\"}]\n",
    "\n",
    "tokenizer = AutoTokenizer.from_pretrained(model_name, trust_remote_code=True)\n",
    "input_text = tokenizer.apply_chat_template(prompt, tokenize=False, add_generation_prompt=True)\n",
    "\n",
    "llm = LLM(\n",
    "    model=model_name,\n",
    "    trust_remote_code=True,\n",
    "    tensor_parallel_size=1,\n",
    "    gpu_memory_utilization=0.97,\n",
    "    max_model_len=2048,\n",
    ")\n",
    "\n",
    "sampling_params = SamplingParams(top_p=0.7, temperature=0.7, max_tokens=512, repetition_penalty=1.02)\n",
    "outputs = llm.generate(prompts=input_text, sampling_params=sampling_params)\n",
    "print(outputs[0].outputs[0].text)"
   ]
  },
  {
   "cell_type": "code",
   "execution_count": 1,
   "metadata": {},
   "outputs": [],
   "source": [
    "answers = {\n",
    "    1: [0, 1, 0, 1, 0],  # 志愿者1的答案\n",
    "    2: [1, 0, 0, 1, 0],  # 志愿者2的答案\n",
    "    3: [0, 0, 1, 0, 1],  # 志愿者3的答案\n",
    "    4: [1, 1, 0, 0, 1],  # 志愿者4的答案\n",
    "    5: [0, 1, 1, 0, 0],  # 志愿者5的答案\n",
    "}"
   ]
  }
 ],
 "metadata": {
  "kernelspec": {
   "display_name": "base",
   "language": "python",
   "name": "python3"
  },
  "language_info": {
   "codemirror_mode": {
    "name": "ipython",
    "version": 3
   },
   "file_extension": ".py",
   "mimetype": "text/x-python",
   "name": "python",
   "nbconvert_exporter": "python",
   "pygments_lexer": "ipython3",
   "version": "3.10.14"
  }
 },
 "nbformat": 4,
 "nbformat_minor": 2
}
